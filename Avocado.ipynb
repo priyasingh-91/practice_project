{
 "cells": [
  {
   "cell_type": "markdown",
   "id": "69ee2a04",
   "metadata": {},
   "source": [
    "# <center> Avocado Project"
   ]
  },
  {
   "cell_type": "markdown",
   "id": "a6a15565",
   "metadata": {},
   "source": [
    "### Project Description\n",
    "This data was downloaded from the Hass Avocado Board website in May of 2018 & compiled into a single CSV. \n",
    "The table below represents weekly 2018 retail scan data for National retail volume (units) and price. Retail scan data comes directly from retailers’ cash registers based on actual retail sales of Hass avocados. \n",
    "Starting in 2013, the table below reflects an expanded, multi-outlet retail data set. Multi-outlet reporting includes an aggregation of the following channels: grocery, mass, club, drug, dollar and military. The Average Price (of avocados) in the table reflects a per unit (per avocado) cost, even when multiple units (avocados) are sold in bags. \n",
    "The Product Lookup codes (PLU’s) in the table are only for Hass avocados. Other varieties of avocados (e.g. greenskins) are not included in this table.\n",
    "\n",
    "Some relevant columns in the dataset:\n",
    "\n",
    "    •\tDate - The date of the observation\n",
    "    •\tAveragePrice - the average price of a single avocado\n",
    "    •\ttype - conventional or organic\n",
    "    •\tyear - the year\n",
    "    •\tRegion - the city or region of the observation\n",
    "    •\tTotal Volume - Total number of avocados sold\n",
    "    •\t4046 - Total number of avocados with PLU 4046 sold\n",
    "    •\t4225 - Total number of avocados with PLU 4225 sold\n",
    "    •\t4770 - Total number of avocados with PLU 4770 sold\n",
    "\n",
    "Inspiration /Label \n",
    "The dataset can be seen in two angles to find the region and find the average price .\n",
    "Task: One of Classification and other of Regression\n",
    "Do both tasks in the same .ipynb file and submit at single file. \n",
    "\n",
    "Dataset Link-\n",
    "•\thttps://github.com/dsrscientist/Data-Science-ML-Capstone-Projects/blob/master/avocado.csv.zip\n"
   ]
  },
  {
   "cell_type": "markdown",
   "id": "c2542740",
   "metadata": {},
   "source": [
    "### Retriving Dataset"
   ]
  },
  {
   "cell_type": "code",
   "execution_count": 1,
   "id": "f5877448",
   "metadata": {
    "scrolled": true
   },
   "outputs": [],
   "source": [
    "import pandas as pd\n",
    "\n",
    "# Read the CSV file into a DataFrame\n",
    "df = pd.read_csv('avocado.csv')"
   ]
  },
  {
   "cell_type": "markdown",
   "id": "c6066057",
   "metadata": {},
   "source": [
    "### 1: Performed EDA (with proper visualization)"
   ]
  },
  {
   "cell_type": "code",
   "execution_count": 2,
   "id": "b3867363",
   "metadata": {},
   "outputs": [
    {
     "data": {
      "text/html": [
       "<div>\n",
       "<style scoped>\n",
       "    .dataframe tbody tr th:only-of-type {\n",
       "        vertical-align: middle;\n",
       "    }\n",
       "\n",
       "    .dataframe tbody tr th {\n",
       "        vertical-align: top;\n",
       "    }\n",
       "\n",
       "    .dataframe thead th {\n",
       "        text-align: right;\n",
       "    }\n",
       "</style>\n",
       "<table border=\"1\" class=\"dataframe\">\n",
       "  <thead>\n",
       "    <tr style=\"text-align: right;\">\n",
       "      <th></th>\n",
       "      <th>Date</th>\n",
       "      <th>AveragePrice</th>\n",
       "      <th>Total Volume</th>\n",
       "      <th>4046</th>\n",
       "      <th>4225</th>\n",
       "      <th>4770</th>\n",
       "      <th>Total Bags</th>\n",
       "      <th>Small Bags</th>\n",
       "      <th>Large Bags</th>\n",
       "      <th>XLarge Bags</th>\n",
       "      <th>type</th>\n",
       "      <th>year</th>\n",
       "      <th>region</th>\n",
       "    </tr>\n",
       "  </thead>\n",
       "  <tbody>\n",
       "    <tr>\n",
       "      <th>0</th>\n",
       "      <td>27-12-2015</td>\n",
       "      <td>1.33</td>\n",
       "      <td>64236.62</td>\n",
       "      <td>1036.74</td>\n",
       "      <td>54454.85</td>\n",
       "      <td>48.16</td>\n",
       "      <td>8696.87</td>\n",
       "      <td>8603.62</td>\n",
       "      <td>93.25</td>\n",
       "      <td>0.0</td>\n",
       "      <td>conventional</td>\n",
       "      <td>2015</td>\n",
       "      <td>Albany</td>\n",
       "    </tr>\n",
       "    <tr>\n",
       "      <th>1</th>\n",
       "      <td>20-12-2015</td>\n",
       "      <td>1.35</td>\n",
       "      <td>54876.98</td>\n",
       "      <td>674.28</td>\n",
       "      <td>44638.81</td>\n",
       "      <td>58.33</td>\n",
       "      <td>9505.56</td>\n",
       "      <td>9408.07</td>\n",
       "      <td>97.49</td>\n",
       "      <td>0.0</td>\n",
       "      <td>conventional</td>\n",
       "      <td>2015</td>\n",
       "      <td>Albany</td>\n",
       "    </tr>\n",
       "    <tr>\n",
       "      <th>2</th>\n",
       "      <td>13-12-2015</td>\n",
       "      <td>0.93</td>\n",
       "      <td>118220.22</td>\n",
       "      <td>794.70</td>\n",
       "      <td>109149.67</td>\n",
       "      <td>130.50</td>\n",
       "      <td>8145.35</td>\n",
       "      <td>8042.21</td>\n",
       "      <td>103.14</td>\n",
       "      <td>0.0</td>\n",
       "      <td>conventional</td>\n",
       "      <td>2015</td>\n",
       "      <td>Albany</td>\n",
       "    </tr>\n",
       "    <tr>\n",
       "      <th>3</th>\n",
       "      <td>06-12-2015</td>\n",
       "      <td>1.08</td>\n",
       "      <td>78992.15</td>\n",
       "      <td>1132.00</td>\n",
       "      <td>71976.41</td>\n",
       "      <td>72.58</td>\n",
       "      <td>5811.16</td>\n",
       "      <td>5677.40</td>\n",
       "      <td>133.76</td>\n",
       "      <td>0.0</td>\n",
       "      <td>conventional</td>\n",
       "      <td>2015</td>\n",
       "      <td>Albany</td>\n",
       "    </tr>\n",
       "    <tr>\n",
       "      <th>4</th>\n",
       "      <td>29-11-2015</td>\n",
       "      <td>1.28</td>\n",
       "      <td>51039.60</td>\n",
       "      <td>941.48</td>\n",
       "      <td>43838.39</td>\n",
       "      <td>75.78</td>\n",
       "      <td>6183.95</td>\n",
       "      <td>5986.26</td>\n",
       "      <td>197.69</td>\n",
       "      <td>0.0</td>\n",
       "      <td>conventional</td>\n",
       "      <td>2015</td>\n",
       "      <td>Albany</td>\n",
       "    </tr>\n",
       "  </tbody>\n",
       "</table>\n",
       "</div>"
      ],
      "text/plain": [
       "         Date  AveragePrice  Total Volume     4046       4225    4770  \\\n",
       "0  27-12-2015          1.33      64236.62  1036.74   54454.85   48.16   \n",
       "1  20-12-2015          1.35      54876.98   674.28   44638.81   58.33   \n",
       "2  13-12-2015          0.93     118220.22   794.70  109149.67  130.50   \n",
       "3  06-12-2015          1.08      78992.15  1132.00   71976.41   72.58   \n",
       "4  29-11-2015          1.28      51039.60   941.48   43838.39   75.78   \n",
       "\n",
       "   Total Bags  Small Bags  Large Bags  XLarge Bags          type  year  region  \n",
       "0     8696.87     8603.62       93.25          0.0  conventional  2015  Albany  \n",
       "1     9505.56     9408.07       97.49          0.0  conventional  2015  Albany  \n",
       "2     8145.35     8042.21      103.14          0.0  conventional  2015  Albany  \n",
       "3     5811.16     5677.40      133.76          0.0  conventional  2015  Albany  \n",
       "4     6183.95     5986.26      197.69          0.0  conventional  2015  Albany  "
      ]
     },
     "execution_count": 2,
     "metadata": {},
     "output_type": "execute_result"
    }
   ],
   "source": [
    "# Display the first few rows of the DataFrame\n",
    "df.head()"
   ]
  },
  {
   "cell_type": "code",
   "execution_count": 3,
   "id": "2f479714",
   "metadata": {
    "scrolled": true
   },
   "outputs": [
    {
     "data": {
      "text/plain": [
       "array(['conventional'], dtype=object)"
      ]
     },
     "execution_count": 3,
     "metadata": {},
     "output_type": "execute_result"
    }
   ],
   "source": [
    "df['type'].unique()"
   ]
  },
  {
   "cell_type": "code",
   "execution_count": 4,
   "id": "bcc7f0a6",
   "metadata": {},
   "outputs": [
    {
     "data": {
      "text/plain": [
       "Index(['AveragePrice', 'Total Volume', '4046', '4225', '4770', 'Total Bags',\n",
       "       'Small Bags', 'Large Bags', 'XLarge Bags', 'year'],\n",
       "      dtype='object')"
      ]
     },
     "execution_count": 4,
     "metadata": {},
     "output_type": "execute_result"
    }
   ],
   "source": [
    "# drop the type column\n",
    "df = df.drop(['type','region','Date'], axis=1)\n",
    "df.columns"
   ]
  },
  {
   "cell_type": "code",
   "execution_count": 5,
   "id": "26e07911",
   "metadata": {},
   "outputs": [
    {
     "data": {
      "text/plain": [
       "(1517, 10)"
      ]
     },
     "execution_count": 5,
     "metadata": {},
     "output_type": "execute_result"
    }
   ],
   "source": [
    "# Dimension of dataset\n",
    "df.shape"
   ]
  },
  {
   "cell_type": "code",
   "execution_count": 6,
   "id": "34d7c076",
   "metadata": {},
   "outputs": [
    {
     "name": "stdout",
     "output_type": "stream",
     "text": [
      "<class 'pandas.core.frame.DataFrame'>\n",
      "RangeIndex: 1517 entries, 0 to 1516\n",
      "Data columns (total 10 columns):\n",
      " #   Column        Non-Null Count  Dtype  \n",
      "---  ------        --------------  -----  \n",
      " 0   AveragePrice  1517 non-null   float64\n",
      " 1   Total Volume  1517 non-null   float64\n",
      " 2   4046          1517 non-null   float64\n",
      " 3   4225          1517 non-null   float64\n",
      " 4   4770          1517 non-null   float64\n",
      " 5   Total Bags    1517 non-null   float64\n",
      " 6   Small Bags    1517 non-null   float64\n",
      " 7   Large Bags    1517 non-null   float64\n",
      " 8   XLarge Bags   1517 non-null   float64\n",
      " 9   year          1517 non-null   int64  \n",
      "dtypes: float64(9), int64(1)\n",
      "memory usage: 118.6 KB\n",
      "None\n"
     ]
    }
   ],
   "source": [
    "# Summary of the dataset:\n",
    "print(df.info())"
   ]
  },
  {
   "cell_type": "code",
   "execution_count": 7,
   "id": "f1b39c7f",
   "metadata": {},
   "outputs": [
    {
     "name": "stdout",
     "output_type": "stream",
     "text": [
      "AveragePrice    0\n",
      "Total Volume    0\n",
      "4046            0\n",
      "4225            0\n",
      "4770            0\n",
      "Total Bags      0\n",
      "Small Bags      0\n",
      "Large Bags      0\n",
      "XLarge Bags     0\n",
      "year            0\n",
      "dtype: int64\n"
     ]
    }
   ],
   "source": [
    "# Missing values in the dataset:\n",
    "print(df.isnull().sum())"
   ]
  },
  {
   "cell_type": "code",
   "execution_count": 8,
   "id": "ce21268d",
   "metadata": {},
   "outputs": [
    {
     "data": {
      "text/html": [
       "<div>\n",
       "<style scoped>\n",
       "    .dataframe tbody tr th:only-of-type {\n",
       "        vertical-align: middle;\n",
       "    }\n",
       "\n",
       "    .dataframe tbody tr th {\n",
       "        vertical-align: top;\n",
       "    }\n",
       "\n",
       "    .dataframe thead th {\n",
       "        text-align: right;\n",
       "    }\n",
       "</style>\n",
       "<table border=\"1\" class=\"dataframe\">\n",
       "  <thead>\n",
       "    <tr style=\"text-align: right;\">\n",
       "      <th></th>\n",
       "      <th>AveragePrice</th>\n",
       "      <th>Total Volume</th>\n",
       "      <th>4046</th>\n",
       "      <th>4225</th>\n",
       "      <th>4770</th>\n",
       "      <th>Total Bags</th>\n",
       "      <th>Small Bags</th>\n",
       "      <th>Large Bags</th>\n",
       "      <th>XLarge Bags</th>\n",
       "      <th>year</th>\n",
       "    </tr>\n",
       "  </thead>\n",
       "  <tbody>\n",
       "    <tr>\n",
       "      <th>count</th>\n",
       "      <td>1517.000000</td>\n",
       "      <td>1.517000e+03</td>\n",
       "      <td>1.517000e+03</td>\n",
       "      <td>1.517000e+03</td>\n",
       "      <td>1.517000e+03</td>\n",
       "      <td>1.517000e+03</td>\n",
       "      <td>1.517000e+03</td>\n",
       "      <td>1.517000e+03</td>\n",
       "      <td>1517.000000</td>\n",
       "      <td>1517.000000</td>\n",
       "    </tr>\n",
       "    <tr>\n",
       "      <th>mean</th>\n",
       "      <td>1.074990</td>\n",
       "      <td>1.601879e+06</td>\n",
       "      <td>6.464387e+05</td>\n",
       "      <td>6.114375e+05</td>\n",
       "      <td>5.040550e+04</td>\n",
       "      <td>2.935974e+05</td>\n",
       "      <td>2.487736e+05</td>\n",
       "      <td>4.264205e+04</td>\n",
       "      <td>2181.771074</td>\n",
       "      <td>2015.162821</td>\n",
       "    </tr>\n",
       "    <tr>\n",
       "      <th>std</th>\n",
       "      <td>0.188891</td>\n",
       "      <td>4.433143e+06</td>\n",
       "      <td>1.947614e+06</td>\n",
       "      <td>1.672906e+06</td>\n",
       "      <td>1.377812e+05</td>\n",
       "      <td>7.579765e+05</td>\n",
       "      <td>6.474765e+05</td>\n",
       "      <td>1.182157e+05</td>\n",
       "      <td>7455.712144</td>\n",
       "      <td>0.369324</td>\n",
       "    </tr>\n",
       "    <tr>\n",
       "      <th>min</th>\n",
       "      <td>0.490000</td>\n",
       "      <td>3.875074e+04</td>\n",
       "      <td>4.677200e+02</td>\n",
       "      <td>1.783770e+03</td>\n",
       "      <td>0.000000e+00</td>\n",
       "      <td>3.311770e+03</td>\n",
       "      <td>3.311770e+03</td>\n",
       "      <td>0.000000e+00</td>\n",
       "      <td>0.000000</td>\n",
       "      <td>2015.000000</td>\n",
       "    </tr>\n",
       "    <tr>\n",
       "      <th>25%</th>\n",
       "      <td>0.980000</td>\n",
       "      <td>1.474700e+05</td>\n",
       "      <td>2.040034e+04</td>\n",
       "      <td>4.147606e+04</td>\n",
       "      <td>9.112500e+02</td>\n",
       "      <td>3.620689e+04</td>\n",
       "      <td>2.972722e+04</td>\n",
       "      <td>5.407400e+02</td>\n",
       "      <td>0.000000</td>\n",
       "      <td>2015.000000</td>\n",
       "    </tr>\n",
       "    <tr>\n",
       "      <th>50%</th>\n",
       "      <td>1.080000</td>\n",
       "      <td>4.027919e+05</td>\n",
       "      <td>8.175117e+04</td>\n",
       "      <td>1.186649e+05</td>\n",
       "      <td>7.688170e+03</td>\n",
       "      <td>7.397906e+04</td>\n",
       "      <td>6.237569e+04</td>\n",
       "      <td>5.044350e+03</td>\n",
       "      <td>0.000000</td>\n",
       "      <td>2015.000000</td>\n",
       "    </tr>\n",
       "    <tr>\n",
       "      <th>75%</th>\n",
       "      <td>1.190000</td>\n",
       "      <td>9.819751e+05</td>\n",
       "      <td>3.775785e+05</td>\n",
       "      <td>4.851503e+05</td>\n",
       "      <td>2.916730e+04</td>\n",
       "      <td>1.576097e+05</td>\n",
       "      <td>1.461994e+05</td>\n",
       "      <td>2.926767e+04</td>\n",
       "      <td>401.480000</td>\n",
       "      <td>2015.000000</td>\n",
       "    </tr>\n",
       "    <tr>\n",
       "      <th>max</th>\n",
       "      <td>1.680000</td>\n",
       "      <td>4.465546e+07</td>\n",
       "      <td>1.893304e+07</td>\n",
       "      <td>1.895648e+07</td>\n",
       "      <td>1.381516e+06</td>\n",
       "      <td>6.736304e+06</td>\n",
       "      <td>5.893642e+06</td>\n",
       "      <td>1.121076e+06</td>\n",
       "      <td>108072.790000</td>\n",
       "      <td>2016.000000</td>\n",
       "    </tr>\n",
       "  </tbody>\n",
       "</table>\n",
       "</div>"
      ],
      "text/plain": [
       "       AveragePrice  Total Volume          4046          4225          4770  \\\n",
       "count   1517.000000  1.517000e+03  1.517000e+03  1.517000e+03  1.517000e+03   \n",
       "mean       1.074990  1.601879e+06  6.464387e+05  6.114375e+05  5.040550e+04   \n",
       "std        0.188891  4.433143e+06  1.947614e+06  1.672906e+06  1.377812e+05   \n",
       "min        0.490000  3.875074e+04  4.677200e+02  1.783770e+03  0.000000e+00   \n",
       "25%        0.980000  1.474700e+05  2.040034e+04  4.147606e+04  9.112500e+02   \n",
       "50%        1.080000  4.027919e+05  8.175117e+04  1.186649e+05  7.688170e+03   \n",
       "75%        1.190000  9.819751e+05  3.775785e+05  4.851503e+05  2.916730e+04   \n",
       "max        1.680000  4.465546e+07  1.893304e+07  1.895648e+07  1.381516e+06   \n",
       "\n",
       "         Total Bags    Small Bags    Large Bags    XLarge Bags         year  \n",
       "count  1.517000e+03  1.517000e+03  1.517000e+03    1517.000000  1517.000000  \n",
       "mean   2.935974e+05  2.487736e+05  4.264205e+04    2181.771074  2015.162821  \n",
       "std    7.579765e+05  6.474765e+05  1.182157e+05    7455.712144     0.369324  \n",
       "min    3.311770e+03  3.311770e+03  0.000000e+00       0.000000  2015.000000  \n",
       "25%    3.620689e+04  2.972722e+04  5.407400e+02       0.000000  2015.000000  \n",
       "50%    7.397906e+04  6.237569e+04  5.044350e+03       0.000000  2015.000000  \n",
       "75%    1.576097e+05  1.461994e+05  2.926767e+04     401.480000  2015.000000  \n",
       "max    6.736304e+06  5.893642e+06  1.121076e+06  108072.790000  2016.000000  "
      ]
     },
     "execution_count": 8,
     "metadata": {},
     "output_type": "execute_result"
    }
   ],
   "source": [
    "# Summary of the dataset\n",
    "df.describe()"
   ]
  },
  {
   "cell_type": "code",
   "execution_count": 9,
   "id": "eff48585",
   "metadata": {},
   "outputs": [],
   "source": [
    "import seaborn as sns\n",
    "import matplotlib.pyplot as plt"
   ]
  },
  {
   "cell_type": "code",
   "execution_count": 10,
   "id": "a53740f8",
   "metadata": {},
   "outputs": [
    {
     "data": {
      "image/png": "[encoded data removed]",
      "text/plain": [
       "<Figure size 1000x600 with 2 Axes>"
      ]
     },
     "metadata": {},
     "output_type": "display_data"
    }
   ],
   "source": [
    "# Correlation heatmap\n",
    "plt.figure(figsize=(10, 6))\n",
    "sns.heatmap(df.corr(), annot=True, cmap='coolwarm', fmt=\".2f\")\n",
    "plt.title('Correlation Heatmap')\n",
    "plt.show()"
   ]
  },
  {
   "cell_type": "code",
   "execution_count": 11,
   "id": "06afdb20",
   "metadata": {},
   "outputs": [
    {
     "data": {
      "image/png": "[encoded data removed]",
      "text/plain": [
       "<Figure size 800x400 with 1 Axes>"
      ]
     },
     "metadata": {},
     "output_type": "display_data"
    }
   ],
   "source": [
    "# Boxplot for each feature\n",
    "plt.figure(figsize=(8, 4))\n",
    "sns.boxplot(data=df)\n",
    "plt.xticks(rotation=45)\n",
    "plt.show()"
   ]
  },
  {
   "cell_type": "markdown",
   "id": "bdd8aff4",
   "metadata": {},
   "source": [
    "### 2: Check outliers if present remove it"
   ]
  },
  {
   "cell_type": "code",
   "execution_count": 12,
   "id": "1224445c",
   "metadata": {},
   "outputs": [
    {
     "name": "stdout",
     "output_type": "stream",
     "text": [
      "Summary after removing outliers:\n",
      "       AveragePrice  Total Volume           4046          4225          4770  \\\n",
      "count    881.000000  8.810000e+02     881.000000  8.810000e+02    881.000000   \n",
      "mean       1.088002  3.871391e+05  149892.549977  1.598372e+05   8614.136515   \n",
      "std        0.159367  3.357517e+05  194926.549195  1.940820e+05  12326.076101   \n",
      "min        0.670000  3.875074e+04     509.940000  4.856270e+03      7.480000   \n",
      "25%        0.990000  1.212365e+05   15004.700000  3.448333e+04    368.950000   \n",
      "50%        1.100000  2.742092e+05   66513.950000  6.949308e+04   3203.530000   \n",
      "75%        1.200000  5.366430e+05  194526.220000  2.114536e+05  13077.850000   \n",
      "max        1.450000  1.619341e+06  871511.120000  1.107466e+06  69371.340000   \n",
      "\n",
      "          Total Bags     Small Bags    Large Bags  XLarge Bags    year  \n",
      "count     881.000000     881.000000    881.000000   881.000000   881.0  \n",
      "mean    68795.164926   58404.857117  10329.380397    60.927412  2015.0  \n",
      "std     56467.101944   51701.333965  14522.692199   178.948136     0.0  \n",
      "min      3311.770000    3311.770000      0.000000     0.000000  2015.0  \n",
      "25%     28281.560000   22090.480000    320.000000     0.000000  2015.0  \n",
      "50%     54650.810000   45163.770000   3626.410000     0.000000  2015.0  \n",
      "75%     91280.650000   74003.770000  14148.650000     4.990000  2015.0  \n",
      "max    323761.500000  300231.390000  69586.540000   972.960000  2015.0  \n"
     ]
    }
   ],
   "source": [
    "# Check outliers using the IQR method\n",
    "Q1 = df.quantile(0.25)\n",
    "Q3 = df.quantile(0.75)\n",
    "IQR = Q3 - Q1\n",
    "\n",
    "# Identify outliers using the IQR method\n",
    "outliers = ((df < (Q1 - 1.5 * IQR)) | (df > (Q3 + 1.5 * IQR))).any(axis=1)\n",
    "\n",
    "# Remove outliers\n",
    "df_no_outliers = df[~outliers]\n",
    "\n",
    "# Print summary after removing outliers\n",
    "print(\"Summary after removing outliers:\")\n",
    "print(df_no_outliers.describe())"
   ]
  },
  {
   "cell_type": "markdown",
   "id": "1caea30a",
   "metadata": {},
   "source": [
    "### 3: Check multicollinearity if present rewove it"
   ]
  },
  {
   "cell_type": "code",
   "execution_count": 13,
   "id": "ec117a54",
   "metadata": {},
   "outputs": [
    {
     "data": {
      "image/png": "[encoded data removed]",
      "text/plain": [
       "<Figure size 1000x400 with 2 Axes>"
      ]
     },
     "metadata": {},
     "output_type": "display_data"
    },
    {
     "name": "stdout",
     "output_type": "stream",
     "text": [
      "{'Large Bags', 'Total Bags', '4046', '4770', '4225', 'Small Bags'}\n",
      "Summary after removing multicollinearity:\n",
      "       AveragePrice  Total Volume    XLarge Bags         year\n",
      "count   1517.000000  1.517000e+03    1517.000000  1517.000000\n",
      "mean       1.074990  1.601879e+06    2181.771074  2015.162821\n",
      "std        0.188891  4.433143e+06    7455.712144     0.369324\n",
      "min        0.490000  3.875074e+04       0.000000  2015.000000\n",
      "25%        0.980000  1.474700e+05       0.000000  2015.000000\n",
      "50%        1.080000  4.027919e+05       0.000000  2015.000000\n",
      "75%        1.190000  9.819751e+05     401.480000  2015.000000\n",
      "max        1.680000  4.465546e+07  108072.790000  2016.000000\n"
     ]
    }
   ],
   "source": [
    "import numpy as np\n",
    "\n",
    "# # Calculate the correlation matrix\n",
    "correlation_matrix = df.drop('AveragePrice', axis=1).corr()\n",
    "\n",
    "# # Create a mask for the upper triangle\n",
    "mask = np.triu(np.ones_like(correlation_matrix, dtype=bool))\n",
    "\n",
    "# Plot the heatmap\n",
    "plt.figure(figsize=(10, 4))\n",
    "sns.heatmap(correlation_matrix, annot=True, cmap='coolwarm', mask=mask, fmt=\".2f\")\n",
    "plt.title('Correlation Heatmap')\n",
    "plt.show()\n",
    "\n",
    "# Find features with high correlation\n",
    "high_corr_features = set()\n",
    "for i in range(len(correlation_matrix.columns)):\n",
    "    for j in range(i):\n",
    "        if abs(correlation_matrix.iloc[i, j]) > 0.7:\n",
    "            colname = correlation_matrix.columns[i]\n",
    "            high_corr_features.add(colname)\n",
    "print(high_corr_features)\n",
    "\n",
    "# Remove highly correlated features\n",
    "df_no_multicollinearity = df.drop(high_corr_features, axis=1)\n",
    "\n",
    "# Print summary after removing multicollinearity\n",
    "print(\"Summary after removing multicollinearity:\")\n",
    "print(df_no_multicollinearity.describe())\n"
   ]
  },
  {
   "cell_type": "markdown",
   "id": "35a7dcfb",
   "metadata": {},
   "source": [
    "### 4: Check Skewness, remove "
   ]
  },
  {
   "cell_type": "code",
   "execution_count": 14,
   "id": "e28a0380",
   "metadata": {},
   "outputs": [
    {
     "name": "stdout",
     "output_type": "stream",
     "text": [
      "Index(['Total Volume', '4046', '4225', '4770', 'Total Bags', 'Small Bags',\n",
      "       'Large Bags', 'XLarge Bags', 'year'],\n",
      "      dtype='object')\n"
     ]
    }
   ],
   "source": [
    "# Check skewness for each feature\n",
    "skewness = df.drop('AveragePrice', axis=1).skew()\n",
    "\n",
    "# Remove features with high skewness\n",
    "high_skewness_features = skewness[abs(skewness) > 1].index\n",
    "df_no_skewness = df.drop(high_skewness_features, axis=1)\n",
    "\n",
    "print(high_skewness_features)"
   ]
  },
  {
   "cell_type": "markdown",
   "id": "5168b4a3",
   "metadata": {},
   "source": [
    "### 5: Use Standard Scaling"
   ]
  },
  {
   "cell_type": "code",
   "execution_count": 15,
   "id": "9200a015",
   "metadata": {},
   "outputs": [
    {
     "data": {
      "text/html": [
       "<div>\n",
       "<style scoped>\n",
       "    .dataframe tbody tr th:only-of-type {\n",
       "        vertical-align: middle;\n",
       "    }\n",
       "\n",
       "    .dataframe tbody tr th {\n",
       "        vertical-align: top;\n",
       "    }\n",
       "\n",
       "    .dataframe thead th {\n",
       "        text-align: right;\n",
       "    }\n",
       "</style>\n",
       "<table border=\"1\" class=\"dataframe\">\n",
       "  <thead>\n",
       "    <tr style=\"text-align: right;\">\n",
       "      <th></th>\n",
       "      <th>0</th>\n",
       "      <th>1</th>\n",
       "      <th>2</th>\n",
       "      <th>3</th>\n",
       "      <th>4</th>\n",
       "      <th>5</th>\n",
       "      <th>6</th>\n",
       "      <th>7</th>\n",
       "      <th>8</th>\n",
       "    </tr>\n",
       "  </thead>\n",
       "  <tbody>\n",
       "    <tr>\n",
       "      <th>0</th>\n",
       "      <td>-0.346966</td>\n",
       "      <td>-0.331490</td>\n",
       "      <td>-0.333053</td>\n",
       "      <td>-0.365608</td>\n",
       "      <td>-0.375994</td>\n",
       "      <td>-0.371055</td>\n",
       "      <td>-0.360044</td>\n",
       "      <td>-0.292727</td>\n",
       "      <td>-0.441008</td>\n",
       "    </tr>\n",
       "    <tr>\n",
       "      <th>1</th>\n",
       "      <td>-0.349078</td>\n",
       "      <td>-0.331676</td>\n",
       "      <td>-0.338923</td>\n",
       "      <td>-0.365534</td>\n",
       "      <td>-0.374927</td>\n",
       "      <td>-0.369812</td>\n",
       "      <td>-0.360008</td>\n",
       "      <td>-0.292727</td>\n",
       "      <td>-0.441008</td>\n",
       "    </tr>\n",
       "    <tr>\n",
       "      <th>2</th>\n",
       "      <td>-0.334785</td>\n",
       "      <td>-0.331614</td>\n",
       "      <td>-0.300348</td>\n",
       "      <td>-0.365010</td>\n",
       "      <td>-0.376722</td>\n",
       "      <td>-0.371922</td>\n",
       "      <td>-0.359960</td>\n",
       "      <td>-0.292727</td>\n",
       "      <td>-0.441008</td>\n",
       "    </tr>\n",
       "    <tr>\n",
       "      <th>3</th>\n",
       "      <td>-0.343636</td>\n",
       "      <td>-0.331441</td>\n",
       "      <td>-0.322576</td>\n",
       "      <td>-0.365431</td>\n",
       "      <td>-0.379802</td>\n",
       "      <td>-0.375576</td>\n",
       "      <td>-0.359701</td>\n",
       "      <td>-0.292727</td>\n",
       "      <td>-0.441008</td>\n",
       "    </tr>\n",
       "    <tr>\n",
       "      <th>4</th>\n",
       "      <td>-0.349944</td>\n",
       "      <td>-0.331539</td>\n",
       "      <td>-0.339401</td>\n",
       "      <td>-0.365408</td>\n",
       "      <td>-0.379310</td>\n",
       "      <td>-0.375098</td>\n",
       "      <td>-0.359160</td>\n",
       "      <td>-0.292727</td>\n",
       "      <td>-0.441008</td>\n",
       "    </tr>\n",
       "  </tbody>\n",
       "</table>\n",
       "</div>"
      ],
      "text/plain": [
       "          0         1         2         3         4         5         6  \\\n",
       "0 -0.346966 -0.331490 -0.333053 -0.365608 -0.375994 -0.371055 -0.360044   \n",
       "1 -0.349078 -0.331676 -0.338923 -0.365534 -0.374927 -0.369812 -0.360008   \n",
       "2 -0.334785 -0.331614 -0.300348 -0.365010 -0.376722 -0.371922 -0.359960   \n",
       "3 -0.343636 -0.331441 -0.322576 -0.365431 -0.379802 -0.375576 -0.359701   \n",
       "4 -0.349944 -0.331539 -0.339401 -0.365408 -0.379310 -0.375098 -0.359160   \n",
       "\n",
       "          7         8  \n",
       "0 -0.292727 -0.441008  \n",
       "1 -0.292727 -0.441008  \n",
       "2 -0.292727 -0.441008  \n",
       "3 -0.292727 -0.441008  \n",
       "4 -0.292727 -0.441008  "
      ]
     },
     "execution_count": 15,
     "metadata": {},
     "output_type": "execute_result"
    }
   ],
   "source": [
    "# Preprocessing (if needed)\n",
    "# Example: scaling numerical features\n",
    "from sklearn.preprocessing import StandardScaler\n",
    "\n",
    "scaler = StandardScaler()\n",
    "df_scaled = scaler.fit_transform(df.drop('AveragePrice', axis=1))\n",
    "df_scaled = pd.DataFrame(df_scaled)\n",
    "df_scaled.head()"
   ]
  },
  {
   "cell_type": "markdown",
   "id": "a65203f7",
   "metadata": {},
   "source": [
    "### 6. Check VIF"
   ]
  },
  {
   "cell_type": "code",
   "execution_count": 16,
   "id": "af86c720",
   "metadata": {},
   "outputs": [
    {
     "name": "stdout",
     "output_type": "stream",
     "text": [
      "Variance Inflation Factor (VIF):\n",
      "        Feature       VIF\n",
      "0  Total Volume       inf\n",
      "1          4046       inf\n",
      "2          4225       inf\n",
      "3          4770       inf\n",
      "4    Total Bags       inf\n",
      "5    Small Bags       inf\n",
      "6    Large Bags       inf\n",
      "7   XLarge Bags       inf\n",
      "8          year  1.164126\n"
     ]
    },
    {
     "name": "stderr",
     "output_type": "stream",
     "text": [
      "C:\\Users\\AADERSHI MOHAN\\anaconda3\\Lib\\site-packages\\statsmodels\\stats\\outliers_influence.py:198: RuntimeWarning: divide by zero encountered in scalar divide\n",
      "  vif = 1. / (1. - r_squared_i)\n"
     ]
    }
   ],
   "source": [
    "from statsmodels.stats.outliers_influence import variance_inflation_factor\n",
    "\n",
    "# Compute VIF for each feature\n",
    "X = df.drop('AveragePrice', axis=1)\n",
    "vif_data = pd.DataFrame()\n",
    "vif_data[\"Feature\"] = X.columns\n",
    "vif_data[\"VIF\"] = [variance_inflation_factor(X.values, i) for i in range(len(X.columns))]\n",
    "\n",
    "# Display the VIF values\n",
    "print(\"Variance Inflation Factor (VIF):\")\n",
    "print(vif_data)"
   ]
  },
  {
   "cell_type": "markdown",
   "id": "87b1deb5",
   "metadata": {},
   "source": [
    "### 7: Apply feature scalling method on numerical feature"
   ]
  },
  {
   "cell_type": "code",
   "execution_count": 19,
   "id": "9b8e07a1",
   "metadata": {},
   "outputs": [
    {
     "name": "stdout",
     "output_type": "stream",
     "text": [
      "Scaled DataFrame:\n",
      "   Total Volume      4046      4225      4770  Total Bags  Small Bags  \\\n",
      "0     -0.346966 -0.331490 -0.333053 -0.365608   -0.375994   -0.371055   \n",
      "1     -0.349078 -0.331676 -0.338923 -0.365534   -0.374927   -0.369812   \n",
      "2     -0.334785 -0.331614 -0.300348 -0.365010   -0.376722   -0.371922   \n",
      "3     -0.343636 -0.331441 -0.322576 -0.365431   -0.379802   -0.375576   \n",
      "4     -0.349944 -0.331539 -0.339401 -0.365408   -0.379310   -0.375098   \n",
      "\n",
      "   Large Bags  XLarge Bags      year  AveragePrice  \n",
      "0   -0.360044    -0.292727 -0.441008          1.33  \n",
      "1   -0.360008    -0.292727 -0.441008          1.35  \n",
      "2   -0.359960    -0.292727 -0.441008          0.93  \n",
      "3   -0.359701    -0.292727 -0.441008          1.08  \n",
      "4   -0.359160    -0.292727 -0.441008          1.28  \n"
     ]
    }
   ],
   "source": [
    "from sklearn.preprocessing import StandardScaler\n",
    "\n",
    "# Separate numerical features\n",
    "numerical_features = df.drop('AveragePrice', axis=1)\n",
    "\n",
    "# Apply Standardization to numerical features\n",
    "scaler = StandardScaler()\n",
    "scaled_features = scaler.fit_transform(numerical_features)\n",
    "\n",
    "# Create a DataFrame with scaled features\n",
    "df_scaled = pd.DataFrame(scaled_features, columns=numerical_features.columns)\n",
    "\n",
    "df_scaled['AveragePrice'] = df['AveragePrice']\n",
    "\n",
    "# Print the first few rows of the scaled DataFrame\n",
    "print(\"Scaled DataFrame:\")\n",
    "print(df_scaled.head())"
   ]
  },
  {
   "cell_type": "markdown",
   "id": "e7a5b5c1",
   "metadata": {},
   "source": [
    "### 8: Resampling to balance the class(if problem is classification)"
   ]
  },
  {
   "cell_type": "code",
   "execution_count": 20,
   "id": "68589618",
   "metadata": {},
   "outputs": [],
   "source": [
    "# It's not a classification problem"
   ]
  },
  {
   "cell_type": "markdown",
   "id": "78c820eb",
   "metadata": {},
   "source": [
    "### 9: Apply feature selection method"
   ]
  },
  {
   "cell_type": "code",
   "execution_count": 24,
   "id": "9b4a5a64",
   "metadata": {},
   "outputs": [
    {
     "name": "stdout",
     "output_type": "stream",
     "text": [
      "Selected features:\n",
      "Index(['Total Volume', '4046', '4225', '4770', 'Small Bags'], dtype='object')\n"
     ]
    }
   ],
   "source": [
    "from sklearn.feature_selection import RFE\n",
    "from sklearn.ensemble import RandomForestRegressor\n",
    "\n",
    "# Assuming X contains features and y contains the target variable for regression\n",
    "X = df.drop('AveragePrice', axis=1)\n",
    "y = df['AveragePrice']\n",
    "\n",
    "# Initialize the estimator (e.g., RandomForestRegressor for regression)\n",
    "estimator = RandomForestRegressor(random_state=42)\n",
    "\n",
    "# Initialize Recursive Feature Elimination (RFE) with the estimator\n",
    "rfe = RFE(estimator, n_features_to_select=5, step=1)\n",
    "\n",
    "# Fit RFE to the data\n",
    "rfe.fit(X, y)\n",
    "\n",
    "# Get selected feature indices\n",
    "selected_features_indices = rfe.get_support(indices=True)\n",
    "\n",
    "# Get selected feature names\n",
    "selected_features = X.columns[selected_features_indices]\n",
    "\n",
    "# Print selected feature names\n",
    "print(\"Selected features:\")\n",
    "print(selected_features)\n"
   ]
  },
  {
   "cell_type": "markdown",
   "id": "18061261",
   "metadata": {},
   "source": [
    "### 10: Split the data into feature and target variable x and y"
   ]
  },
  {
   "cell_type": "code",
   "execution_count": 25,
   "id": "989aa1ab",
   "metadata": {},
   "outputs": [
    {
     "name": "stdout",
     "output_type": "stream",
     "text": [
      "Feature variables (X):\n",
      "   Total Volume     4046       4225    4770  Total Bags  Small Bags  \\\n",
      "0      64236.62  1036.74   54454.85   48.16     8696.87     8603.62   \n",
      "1      54876.98   674.28   44638.81   58.33     9505.56     9408.07   \n",
      "2     118220.22   794.70  109149.67  130.50     8145.35     8042.21   \n",
      "3      78992.15  1132.00   71976.41   72.58     5811.16     5677.40   \n",
      "4      51039.60   941.48   43838.39   75.78     6183.95     5986.26   \n",
      "\n",
      "   Large Bags  XLarge Bags  year  \n",
      "0       93.25          0.0  2015  \n",
      "1       97.49          0.0  2015  \n",
      "2      103.14          0.0  2015  \n",
      "3      133.76          0.0  2015  \n",
      "4      197.69          0.0  2015  \n",
      "\n",
      "Target variable (y):\n",
      "0    1.33\n",
      "1    1.35\n",
      "2    0.93\n",
      "3    1.08\n",
      "4    1.28\n",
      "Name: AveragePrice, dtype: float64\n"
     ]
    }
   ],
   "source": [
    "# Split the data into feature variables (X) and target variable (y)\n",
    "\n",
    "X = df.drop('AveragePrice', axis=1)\n",
    "y = df['AveragePrice']\n",
    "\n",
    "# Display the first few rows of X and y\n",
    "print(\"Feature variables (X):\")\n",
    "print(X.head())\n",
    "print(\"\\nTarget variable (y):\")\n",
    "print(y.head())"
   ]
  },
  {
   "cell_type": "markdown",
   "id": "3cad691d",
   "metadata": {},
   "source": [
    "### 11: Divide data into 4 part,  X_train, y_train, x_test, y_test by using train test split method"
   ]
  },
  {
   "cell_type": "code",
   "execution_count": 26,
   "id": "be28c46b",
   "metadata": {},
   "outputs": [
    {
     "name": "stdout",
     "output_type": "stream",
     "text": [
      "X_train shape: (1137, 9)\n",
      "y_train shape: (1137,)\n",
      "X_test shape: (380, 9)\n",
      "y_test shape: (380,)\n"
     ]
    }
   ],
   "source": [
    "from sklearn.model_selection import train_test_split\n",
    "\n",
    "# Divide the data into training and testing sets\n",
    "X_train, X_test, y_train, y_test = train_test_split(X, y, test_size=0.25, random_state=42)\n",
    "\n",
    "# Display the shapes of the training and testing sets\n",
    "print(\"X_train shape:\", X_train.shape)\n",
    "print(\"y_train shape:\", y_train.shape)\n",
    "print(\"X_test shape:\", X_test.shape)\n",
    "print(\"y_test shape:\", y_test.shape)"
   ]
  },
  {
   "cell_type": "markdown",
   "id": "99521362",
   "metadata": {},
   "source": [
    "### 12: Building models and checking cross validation score"
   ]
  },
  {
   "cell_type": "code",
   "execution_count": 27,
   "id": "5b12470b",
   "metadata": {},
   "outputs": [
    {
     "name": "stdout",
     "output_type": "stream",
     "text": [
      "Cross-validation scores for Linear Regression: [-0.01879202 -0.0300238  -0.16949925]\n",
      "Mean cross-validation score for Linear Regression: -0.0727716931420754\n",
      "\n",
      "Cross-validation scores for Random Forest Regressor: [-0.01488619 -0.02170641 -0.03638261]\n",
      "Mean cross-validation score for Random Forest Regressor: -0.024325072222243966\n",
      "\n"
     ]
    }
   ],
   "source": [
    "import pandas as pd\n",
    "from sklearn.model_selection import cross_val_score\n",
    "from sklearn.ensemble import RandomForestRegressor\n",
    "from sklearn.linear_model import LinearRegression\n",
    "\n",
    "# Split the data into features (X) and target variable (y)\n",
    "X = df.drop('AveragePrice', axis=1)  # Features\n",
    "y = df['AveragePrice']               # Target variable\n",
    "\n",
    "# Choose models to train\n",
    "models = {\n",
    "    'Linear Regression': LinearRegression(),\n",
    "    'Random Forest Regressor': RandomForestRegressor(random_state=42)\n",
    "}\n",
    "\n",
    "# Evaluate models using cross-validation\n",
    "for name, model in models.items():\n",
    "    cv_scores = cross_val_score(model, X, y, cv=3, scoring='neg_mean_squared_error')  # Using negative mean squared error for scoring\n",
    "    print(f\"Cross-validation scores for {name}: {cv_scores}\")\n",
    "    print(f\"Mean cross-validation score for {name}: {cv_scores.mean()}\\n\")\n"
   ]
  },
  {
   "cell_type": "markdown",
   "id": "d41b412e",
   "metadata": {},
   "source": [
    "### 13. Find Best Model"
   ]
  },
  {
   "cell_type": "code",
   "execution_count": 28,
   "id": "561d9387",
   "metadata": {},
   "outputs": [],
   "source": [
    "import warnings \n",
    "warnings.filterwarnings('ignore')"
   ]
  },
  {
   "cell_type": "code",
   "execution_count": 29,
   "id": "b9feca94",
   "metadata": {},
   "outputs": [
    {
     "name": "stdout",
     "output_type": "stream",
     "text": [
      "Mean squared error for Linear Regression: 0.0727716931420754\n",
      "Mean squared error for Random Forest Regressor: 0.024325072222243966\n",
      "\n",
      "The best model for predicting 'W' is: Random Forest Regressor with MSE: 0.024325072222243966\n"
     ]
    }
   ],
   "source": [
    "import pandas as pd\n",
    "from sklearn.model_selection import cross_val_score\n",
    "from sklearn.ensemble import RandomForestRegressor\n",
    "from sklearn.linear_model import LinearRegression\n",
    "\n",
    "# Split the data into features (X) and target variable (y)\n",
    "X = df.drop('AveragePrice', axis=1)  # Features\n",
    "y = df['AveragePrice']               # Target variable\n",
    "\n",
    "# Choose models to train\n",
    "models = {\n",
    "    'Linear Regression': LinearRegression(),\n",
    "    'Random Forest Regressor': RandomForestRegressor(random_state=42)\n",
    "}\n",
    "\n",
    "# Evaluate models using cross-validation and MSE\n",
    "mse_scores = {}\n",
    "for name, model in models.items():\n",
    "    cv_scores = cross_val_score(model, X, y, cv=3, scoring='neg_mean_squared_error')  # Using negative mean squared error for scoring\n",
    "    mse_scores[name] = -cv_scores.mean()  # Convert negative MSE to positive\n",
    "    print(f\"Mean squared error for {name}: {-cv_scores.mean()}\")\n",
    "\n",
    "# Find the best model\n",
    "best_model = min(mse_scores, key=mse_scores.get)\n",
    "print(f\"\\nThe best model for predicting 'W' is: {best_model} with MSE: {mse_scores[best_model]}\")\n"
   ]
  },
  {
   "cell_type": "markdown",
   "id": "7884f886",
   "metadata": {},
   "source": [
    "### 14: Hyper parameters tunning"
   ]
  },
  {
   "cell_type": "code",
   "execution_count": 30,
   "id": "7f90065d",
   "metadata": {},
   "outputs": [
    {
     "name": "stdout",
     "output_type": "stream",
     "text": [
      "Best Linear Regression Model: LinearRegression()\n",
      "Linear Regression Test Score: 0.14627443968626075\n",
      "\n",
      "Best Random Forest Regression Model: RandomForestRegressor(random_state=42)\n",
      "Random Forest Regression Test Score: 0.8063080769888643\n"
     ]
    }
   ],
   "source": [
    "import pandas as pd\n",
    "from sklearn.model_selection import GridSearchCV, train_test_split\n",
    "from sklearn.ensemble import RandomForestRegressor\n",
    "from sklearn.linear_model import LinearRegression\n",
    "\n",
    "# Split the data into features (X) and target variable (y)\n",
    "X = df.drop('AveragePrice', axis=1)  # Features\n",
    "y = df['AveragePrice']               # Target variable\n",
    "\n",
    "# Split the data into training and testing sets\n",
    "X_train, X_test, y_train, y_test = train_test_split(X, y, test_size=0.25, random_state=42)\n",
    "\n",
    "# Define hyperparameters grid for Linear Regression\n",
    "linear_params = {}\n",
    "\n",
    "# Define hyperparameters grid for Random Forest Regression\n",
    "rf_params = {\n",
    "    'n_estimators': [50, 100]\n",
    "}\n",
    "\n",
    "# Initialize GridSearchCV for Linear Regression\n",
    "linear_grid_search = GridSearchCV(LinearRegression(), param_grid=linear_params, cv=3, scoring='neg_mean_squared_error')\n",
    "\n",
    "# Initialize GridSearchCV for Random Forest Regression\n",
    "rf_grid_search = GridSearchCV(RandomForestRegressor(random_state=42), param_grid=rf_params, cv=5, scoring='neg_mean_squared_error')\n",
    "\n",
    "# Perform GridSearchCV for Linear Regression\n",
    "linear_grid_search.fit(X_train, y_train)\n",
    "\n",
    "# Perform GridSearchCV for Random Forest Regression\n",
    "rf_grid_search.fit(X_train, y_train)\n",
    "\n",
    "# Get the best hyperparameters and best models\n",
    "best_linear_model = linear_grid_search.best_estimator_\n",
    "best_rf_model = rf_grid_search.best_estimator_\n",
    "\n",
    "# Evaluate the best models on the test set\n",
    "linear_test_score = best_linear_model.score(X_test, y_test)\n",
    "rf_test_score = best_rf_model.score(X_test, y_test)\n",
    "\n",
    "print(\"Best Linear Regression Model:\", best_linear_model)\n",
    "print(\"Linear Regression Test Score:\", linear_test_score)\n",
    "print(\"\\nBest Random Forest Regression Model:\", best_rf_model)\n",
    "print(\"Random Forest Regression Test Score:\", rf_test_score)\n"
   ]
  },
  {
   "cell_type": "markdown",
   "id": "72eabf57",
   "metadata": {},
   "source": [
    "### 15: Save the model by using joblib method"
   ]
  },
  {
   "cell_type": "code",
   "execution_count": 31,
   "id": "4310ebda",
   "metadata": {},
   "outputs": [
    {
     "data": {
      "text/plain": [
       "['best_rf_model.pkl']"
      ]
     },
     "execution_count": 31,
     "metadata": {},
     "output_type": "execute_result"
    }
   ],
   "source": [
    "import joblib\n",
    "\n",
    "# Save the best Random Forest Regression model\n",
    "joblib.dump(best_rf_model, 'best_rf_model.pkl')"
   ]
  },
  {
   "cell_type": "markdown",
   "id": "52035383",
   "metadata": {},
   "source": [
    "### 16: Load the data by using joblib method"
   ]
  },
  {
   "cell_type": "code",
   "execution_count": 32,
   "id": "74a87644",
   "metadata": {},
   "outputs": [
    {
     "name": "stdout",
     "output_type": "stream",
     "text": [
      "Loaded Model RandomForestRegressor(random_state=42)\n"
     ]
    }
   ],
   "source": [
    "import joblib\n",
    "\n",
    "# Load the trained model\n",
    "loaded_model = joblib.load('best_rf_model.pkl')\n",
    "print('Loaded Model', loaded_model)"
   ]
  },
  {
   "cell_type": "markdown",
   "id": "44bc902a",
   "metadata": {},
   "source": [
    "### 17: Use the test dataset file to predict the target variable"
   ]
  },
  {
   "cell_type": "code",
   "execution_count": 37,
   "id": "e00ddf2d",
   "metadata": {},
   "outputs": [
    {
     "name": "stdout",
     "output_type": "stream",
     "text": [
      "Predictions for the test dataset:\n",
      "[1.3103 1.335  1.0004 ... 1.4236 1.4143 1.4165]\n"
     ]
    }
   ],
   "source": [
    "import pandas as pd\n",
    "import joblib\n",
    "\n",
    "# Load the test dataset\n",
    "test_df = df.copy()\n",
    "\n",
    "# Assuming the test dataset has the same features as the training dataset (except the target variable)\n",
    "X_test = test_df.drop('AveragePrice', axis=1)  # Features\n",
    "\n",
    "# Load the trained model\n",
    "loaded_model = joblib.load('best_rf_model.pkl')\n",
    "\n",
    "# Use the loaded model to make predictions on the test dataset\n",
    "predictions = loaded_model.predict(X_test)\n",
    "\n",
    "# Print the predictions\n",
    "print(\"Predictions for the test dataset:\")\n",
    "print(predictions)\n"
   ]
  },
  {
   "cell_type": "code",
   "execution_count": null,
   "id": "156dece4",
   "metadata": {},
   "outputs": [],
   "source": []
  }
 ],
 "metadata": {
  "kernelspec": {
   "display_name": "Python 3 (ipykernel)",
   "language": "python",
   "name": "python3"
  },
  "language_info": {
   "codemirror_mode": {
    "name": "ipython",
    "version": 3
   },
   "file_extension": ".py",
   "mimetype": "text/x-python",
   "name": "python",
   "nbconvert_exporter": "python",
   "pygments_lexer": "ipython3",
   "version": "3.10.10"
  }
 },
 "nbformat": 4,
 "nbformat_minor": 5
}
